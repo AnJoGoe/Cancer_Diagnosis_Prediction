{
 "cells": [
  {
   "cell_type": "code",
   "execution_count": null,
   "id": "77931624-46d9-4497-893f-1c8421cf7558",
   "metadata": {},
   "outputs": [],
   "source": []
  }
 ],
 "metadata": {
  "kernelspec": {
   "display_name": "cdp_venv",
   "language": "python",
   "name": "cdp_venv"
  },
  "language_info": {
   "codemirror_mode": {
    "name": "ipython",
    "version": 3
   },
   "file_extension": ".py",
   "mimetype": "text/x-python",
   "name": "python",
   "nbconvert_exporter": "python",
   "pygments_lexer": "ipython3",
   "version": "3.11.5"
  }
 },
 "nbformat": 4,
 "nbformat_minor": 5
}
