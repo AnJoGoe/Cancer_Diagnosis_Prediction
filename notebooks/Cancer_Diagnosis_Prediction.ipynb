{
 "cells": [
  {
   "cell_type": "markdown",
   "id": "69307733-b506-44b5-b7fc-f02aa63195d9",
   "metadata": {},
   "source": [
    "# Dataset"
   ]
  },
  {
   "cell_type": "markdown",
   "id": "748448b5-443c-4b2f-94c0-82c251c17966",
   "metadata": {},
   "source": [
    "\n",
    "<a href=\"https://archive.ics.uci.edu/dataset/17/breast+cancer+wisconsin+diagnostic\">Breast Cancer Wisconsin (Diagnostic)</a>\n",
    "\n",
    "\n",
    "<a href=\"https://github.com/uci-ml-repo/ucimlrepo/tree/main\">github: ucimlrepo package</a>\n",
    "\n",
    "\n",
    "\n",
    "Citation: Wolberg,William, Mangasarian,Olvi, Street,Nick, and Street,W.. (1995). Breast Cancer Wisconsin (Diagnostic). UCI Machine Learning Repository. https://doi.org/10.24432/C5DW2B."
   ]
  },
  {
   "cell_type": "code",
   "execution_count": null,
   "id": "5ec7563a-9309-4cdb-bd99-9c711673326f",
   "metadata": {},
   "outputs": [],
   "source": []
  },
  {
   "cell_type": "code",
   "execution_count": null,
   "id": "5fce17e0-3072-49ef-b4cc-7344e5db54eb",
   "metadata": {},
   "outputs": [],
   "source": []
  },
  {
   "cell_type": "markdown",
   "id": "7d7b333e-cb7c-4fd3-bf75-b1f15b938a90",
   "metadata": {},
   "source": [
    "# 1. Import"
   ]
  },
  {
   "cell_type": "code",
   "execution_count": 4,
   "id": "a225b536-68a1-481a-b02e-f49d80fc63d5",
   "metadata": {},
   "outputs": [],
   "source": [
    "import pandas as pd\n",
    "import numpy as np\n",
    "\n",
    "import matplotlib.pyplot as plt\n",
    "import matplotlib.colors as mcolors\n",
    "import seaborn as sns\n",
    "\n",
    "# dotenv import\n",
    "from dotenv import load_dotenv\n",
    "import os\n",
    "from tqdm.auto import tqdm\n",
    "\n",
    "# Datasets\n",
    "from ucimlrepo import fetch_ucirepo, list_available_datasets # Libraries for Breast Camcer dataset \n",
    "\n"
   ]
  },
  {
   "cell_type": "code",
   "execution_count": null,
   "id": "9bc45d44-f442-466b-a333-707d2d20dc66",
   "metadata": {},
   "outputs": [],
   "source": []
  },
  {
   "cell_type": "code",
   "execution_count": null,
   "id": "5429381a-f80e-428f-9ed9-3a4322828ba6",
   "metadata": {},
   "outputs": [],
   "source": []
  },
  {
   "cell_type": "markdown",
   "id": "9f9c38aa-4cf3-40ac-83c1-fef735c98563",
   "metadata": {},
   "source": [
    "# 2. Breast Cancer Wisconsin (Diagnostic)"
   ]
  },
  {
   "cell_type": "markdown",
   "id": "645fee00-0780-467e-8b50-8bc495df1868",
   "metadata": {},
   "source": [
    "## 2.1 Breasct Cancer Dataset - Load Data"
   ]
  },
  {
   "cell_type": "code",
   "execution_count": 5,
   "id": "75c2322d-a3a9-4ff5-91f9-c06765a06e72",
   "metadata": {},
   "outputs": [
    {
     "name": "stdout",
     "output_type": "stream",
     "text": [
      " Datentr„ger in Laufwerk C: ist Windows\n",
      " Volumeseriennummer: 20BD-6958\n",
      "\n",
      " Verzeichnis von C:\\Users\\andre\\Documents\\IRONHACK\\UNIT_8\\Project\\Cancer_Diagnosis_Prediction\\notebooks\n",
      "\n",
      "08.04.2024  20:10    <DIR>          .\n",
      "08.04.2024  19:51    <DIR>          ..\n",
      "08.04.2024  19:52    <DIR>          .ipynb_checkpoints\n",
      "08.04.2024  20:10             2.782 Cancer_Diagnosis_Prediction.ipynb\n",
      "               1 Datei(en),          2.782 Bytes\n",
      "               3 Verzeichnis(se), 658.232.127.488 Bytes frei\n"
     ]
    }
   ],
   "source": [
    "!Dir"
   ]
  },
  {
   "cell_type": "code",
   "execution_count": 6,
   "id": "8c7b9df2-ad58-4c7a-adec-96d8cc2a30c3",
   "metadata": {},
   "outputs": [],
   "source": [
    "# fetch dataset \n",
    "breast_cancer_wisconsin_diagnostic = fetch_ucirepo(id=17) "
   ]
  },
  {
   "cell_type": "code",
   "execution_count": 15,
   "id": "99d283e7-4e1d-4058-bf26-f4c3849acffc",
   "metadata": {},
   "outputs": [],
   "source": [
    "# data (as pandas dataframes) \n",
    "df_original = breast_cancer_wisconsin_diagnostic.data.original"
   ]
  },
  {
   "cell_type": "code",
   "execution_count": null,
   "id": "4d8562db-f9d5-48ff-9b43-52e447c688a9",
   "metadata": {},
   "outputs": [],
   "source": []
  },
  {
   "cell_type": "code",
   "execution_count": null,
   "id": "48f94246-7ca2-4dbc-b687-c13661fc3ce9",
   "metadata": {},
   "outputs": [],
   "source": []
  },
  {
   "cell_type": "markdown",
   "id": "499e0071-9e4d-43a6-b711-11229e6f87ce",
   "metadata": {},
   "source": [
    "## 2.2 Breast Cancer Dataset - Overview "
   ]
  },
  {
   "cell_type": "code",
   "execution_count": 16,
   "id": "f4c61c73-2800-471a-975d-ad5431ddefb0",
   "metadata": {},
   "outputs": [
    {
     "data": {
      "text/html": [
       "<div>\n",
       "<style scoped>\n",
       "    .dataframe tbody tr th:only-of-type {\n",
       "        vertical-align: middle;\n",
       "    }\n",
       "\n",
       "    .dataframe tbody tr th {\n",
       "        vertical-align: top;\n",
       "    }\n",
       "\n",
       "    .dataframe thead th {\n",
       "        text-align: right;\n",
       "    }\n",
       "</style>\n",
       "<table border=\"1\" class=\"dataframe\">\n",
       "  <thead>\n",
       "    <tr style=\"text-align: right;\">\n",
       "      <th></th>\n",
       "      <th>ID</th>\n",
       "      <th>radius1</th>\n",
       "      <th>texture1</th>\n",
       "      <th>perimeter1</th>\n",
       "      <th>area1</th>\n",
       "      <th>smoothness1</th>\n",
       "      <th>compactness1</th>\n",
       "      <th>concavity1</th>\n",
       "      <th>concave_points1</th>\n",
       "      <th>symmetry1</th>\n",
       "      <th>...</th>\n",
       "      <th>texture3</th>\n",
       "      <th>perimeter3</th>\n",
       "      <th>area3</th>\n",
       "      <th>smoothness3</th>\n",
       "      <th>compactness3</th>\n",
       "      <th>concavity3</th>\n",
       "      <th>concave_points3</th>\n",
       "      <th>symmetry3</th>\n",
       "      <th>fractal_dimension3</th>\n",
       "      <th>Diagnosis</th>\n",
       "    </tr>\n",
       "  </thead>\n",
       "  <tbody>\n",
       "    <tr>\n",
       "      <th>0</th>\n",
       "      <td>842302</td>\n",
       "      <td>17.99</td>\n",
       "      <td>10.38</td>\n",
       "      <td>122.80</td>\n",
       "      <td>1001.0</td>\n",
       "      <td>0.11840</td>\n",
       "      <td>0.27760</td>\n",
       "      <td>0.3001</td>\n",
       "      <td>0.14710</td>\n",
       "      <td>0.2419</td>\n",
       "      <td>...</td>\n",
       "      <td>17.33</td>\n",
       "      <td>184.60</td>\n",
       "      <td>2019.0</td>\n",
       "      <td>0.1622</td>\n",
       "      <td>0.6656</td>\n",
       "      <td>0.7119</td>\n",
       "      <td>0.2654</td>\n",
       "      <td>0.4601</td>\n",
       "      <td>0.11890</td>\n",
       "      <td>M</td>\n",
       "    </tr>\n",
       "    <tr>\n",
       "      <th>1</th>\n",
       "      <td>842517</td>\n",
       "      <td>20.57</td>\n",
       "      <td>17.77</td>\n",
       "      <td>132.90</td>\n",
       "      <td>1326.0</td>\n",
       "      <td>0.08474</td>\n",
       "      <td>0.07864</td>\n",
       "      <td>0.0869</td>\n",
       "      <td>0.07017</td>\n",
       "      <td>0.1812</td>\n",
       "      <td>...</td>\n",
       "      <td>23.41</td>\n",
       "      <td>158.80</td>\n",
       "      <td>1956.0</td>\n",
       "      <td>0.1238</td>\n",
       "      <td>0.1866</td>\n",
       "      <td>0.2416</td>\n",
       "      <td>0.1860</td>\n",
       "      <td>0.2750</td>\n",
       "      <td>0.08902</td>\n",
       "      <td>M</td>\n",
       "    </tr>\n",
       "    <tr>\n",
       "      <th>2</th>\n",
       "      <td>84300903</td>\n",
       "      <td>19.69</td>\n",
       "      <td>21.25</td>\n",
       "      <td>130.00</td>\n",
       "      <td>1203.0</td>\n",
       "      <td>0.10960</td>\n",
       "      <td>0.15990</td>\n",
       "      <td>0.1974</td>\n",
       "      <td>0.12790</td>\n",
       "      <td>0.2069</td>\n",
       "      <td>...</td>\n",
       "      <td>25.53</td>\n",
       "      <td>152.50</td>\n",
       "      <td>1709.0</td>\n",
       "      <td>0.1444</td>\n",
       "      <td>0.4245</td>\n",
       "      <td>0.4504</td>\n",
       "      <td>0.2430</td>\n",
       "      <td>0.3613</td>\n",
       "      <td>0.08758</td>\n",
       "      <td>M</td>\n",
       "    </tr>\n",
       "    <tr>\n",
       "      <th>3</th>\n",
       "      <td>84348301</td>\n",
       "      <td>11.42</td>\n",
       "      <td>20.38</td>\n",
       "      <td>77.58</td>\n",
       "      <td>386.1</td>\n",
       "      <td>0.14250</td>\n",
       "      <td>0.28390</td>\n",
       "      <td>0.2414</td>\n",
       "      <td>0.10520</td>\n",
       "      <td>0.2597</td>\n",
       "      <td>...</td>\n",
       "      <td>26.50</td>\n",
       "      <td>98.87</td>\n",
       "      <td>567.7</td>\n",
       "      <td>0.2098</td>\n",
       "      <td>0.8663</td>\n",
       "      <td>0.6869</td>\n",
       "      <td>0.2575</td>\n",
       "      <td>0.6638</td>\n",
       "      <td>0.17300</td>\n",
       "      <td>M</td>\n",
       "    </tr>\n",
       "    <tr>\n",
       "      <th>4</th>\n",
       "      <td>84358402</td>\n",
       "      <td>20.29</td>\n",
       "      <td>14.34</td>\n",
       "      <td>135.10</td>\n",
       "      <td>1297.0</td>\n",
       "      <td>0.10030</td>\n",
       "      <td>0.13280</td>\n",
       "      <td>0.1980</td>\n",
       "      <td>0.10430</td>\n",
       "      <td>0.1809</td>\n",
       "      <td>...</td>\n",
       "      <td>16.67</td>\n",
       "      <td>152.20</td>\n",
       "      <td>1575.0</td>\n",
       "      <td>0.1374</td>\n",
       "      <td>0.2050</td>\n",
       "      <td>0.4000</td>\n",
       "      <td>0.1625</td>\n",
       "      <td>0.2364</td>\n",
       "      <td>0.07678</td>\n",
       "      <td>M</td>\n",
       "    </tr>\n",
       "  </tbody>\n",
       "</table>\n",
       "<p>5 rows × 32 columns</p>\n",
       "</div>"
      ],
      "text/plain": [
       "         ID  radius1  texture1  perimeter1   area1  smoothness1  compactness1  \\\n",
       "0    842302    17.99     10.38      122.80  1001.0      0.11840       0.27760   \n",
       "1    842517    20.57     17.77      132.90  1326.0      0.08474       0.07864   \n",
       "2  84300903    19.69     21.25      130.00  1203.0      0.10960       0.15990   \n",
       "3  84348301    11.42     20.38       77.58   386.1      0.14250       0.28390   \n",
       "4  84358402    20.29     14.34      135.10  1297.0      0.10030       0.13280   \n",
       "\n",
       "   concavity1  concave_points1  symmetry1  ...  texture3  perimeter3   area3  \\\n",
       "0      0.3001          0.14710     0.2419  ...     17.33      184.60  2019.0   \n",
       "1      0.0869          0.07017     0.1812  ...     23.41      158.80  1956.0   \n",
       "2      0.1974          0.12790     0.2069  ...     25.53      152.50  1709.0   \n",
       "3      0.2414          0.10520     0.2597  ...     26.50       98.87   567.7   \n",
       "4      0.1980          0.10430     0.1809  ...     16.67      152.20  1575.0   \n",
       "\n",
       "   smoothness3  compactness3  concavity3  concave_points3  symmetry3  \\\n",
       "0       0.1622        0.6656      0.7119           0.2654     0.4601   \n",
       "1       0.1238        0.1866      0.2416           0.1860     0.2750   \n",
       "2       0.1444        0.4245      0.4504           0.2430     0.3613   \n",
       "3       0.2098        0.8663      0.6869           0.2575     0.6638   \n",
       "4       0.1374        0.2050      0.4000           0.1625     0.2364   \n",
       "\n",
       "   fractal_dimension3  Diagnosis  \n",
       "0             0.11890          M  \n",
       "1             0.08902          M  \n",
       "2             0.08758          M  \n",
       "3             0.17300          M  \n",
       "4             0.07678          M  \n",
       "\n",
       "[5 rows x 32 columns]"
      ]
     },
     "execution_count": 16,
     "metadata": {},
     "output_type": "execute_result"
    }
   ],
   "source": [
    "# Display first 5 rows of target data\n",
    "df_original.head()"
   ]
  },
  {
   "cell_type": "code",
   "execution_count": 17,
   "id": "a1b49999-0efa-4f61-b517-8275865dd4ca",
   "metadata": {},
   "outputs": [
    {
     "name": "stdout",
     "output_type": "stream",
     "text": [
      "no of rows: 569 and no of columns: 32\n"
     ]
    }
   ],
   "source": [
    "# Dataframe structure\n",
    "print(\"no of rows:\", df_original.shape[0], \"and no of columns:\", df_original.shape[1])"
   ]
  },
  {
   "cell_type": "code",
   "execution_count": 18,
   "id": "fc16ca26-22e7-4b33-bd2b-102ab350d4c1",
   "metadata": {},
   "outputs": [
    {
     "data": {
      "text/plain": [
       "Index(['ID', 'radius1', 'texture1', 'perimeter1', 'area1', 'smoothness1',\n",
       "       'compactness1', 'concavity1', 'concave_points1', 'symmetry1',\n",
       "       'fractal_dimension1', 'radius2', 'texture2', 'perimeter2', 'area2',\n",
       "       'smoothness2', 'compactness2', 'concavity2', 'concave_points2',\n",
       "       'symmetry2', 'fractal_dimension2', 'radius3', 'texture3', 'perimeter3',\n",
       "       'area3', 'smoothness3', 'compactness3', 'concavity3', 'concave_points3',\n",
       "       'symmetry3', 'fractal_dimension3', 'Diagnosis'],\n",
       "      dtype='object')"
      ]
     },
     "execution_count": 18,
     "metadata": {},
     "output_type": "execute_result"
    }
   ],
   "source": [
    "# Column Names\n",
    "df_original.columns"
   ]
  },
  {
   "cell_type": "code",
   "execution_count": 19,
   "id": "3fb5eda4-f744-43d1-ae74-115e7bb6d19e",
   "metadata": {},
   "outputs": [
    {
     "name": "stdout",
     "output_type": "stream",
     "text": [
      "<class 'pandas.core.frame.DataFrame'>\n",
      "RangeIndex: 569 entries, 0 to 568\n",
      "Data columns (total 32 columns):\n",
      " #   Column              Non-Null Count  Dtype  \n",
      "---  ------              --------------  -----  \n",
      " 0   ID                  569 non-null    int64  \n",
      " 1   radius1             569 non-null    float64\n",
      " 2   texture1            569 non-null    float64\n",
      " 3   perimeter1          569 non-null    float64\n",
      " 4   area1               569 non-null    float64\n",
      " 5   smoothness1         569 non-null    float64\n",
      " 6   compactness1        569 non-null    float64\n",
      " 7   concavity1          569 non-null    float64\n",
      " 8   concave_points1     569 non-null    float64\n",
      " 9   symmetry1           569 non-null    float64\n",
      " 10  fractal_dimension1  569 non-null    float64\n",
      " 11  radius2             569 non-null    float64\n",
      " 12  texture2            569 non-null    float64\n",
      " 13  perimeter2          569 non-null    float64\n",
      " 14  area2               569 non-null    float64\n",
      " 15  smoothness2         569 non-null    float64\n",
      " 16  compactness2        569 non-null    float64\n",
      " 17  concavity2          569 non-null    float64\n",
      " 18  concave_points2     569 non-null    float64\n",
      " 19  symmetry2           569 non-null    float64\n",
      " 20  fractal_dimension2  569 non-null    float64\n",
      " 21  radius3             569 non-null    float64\n",
      " 22  texture3            569 non-null    float64\n",
      " 23  perimeter3          569 non-null    float64\n",
      " 24  area3               569 non-null    float64\n",
      " 25  smoothness3         569 non-null    float64\n",
      " 26  compactness3        569 non-null    float64\n",
      " 27  concavity3          569 non-null    float64\n",
      " 28  concave_points3     569 non-null    float64\n",
      " 29  symmetry3           569 non-null    float64\n",
      " 30  fractal_dimension3  569 non-null    float64\n",
      " 31  Diagnosis           569 non-null    object \n",
      "dtypes: float64(30), int64(1), object(1)\n",
      "memory usage: 142.4+ KB\n"
     ]
    }
   ],
   "source": [
    "# Info stats\n",
    "df_original.info()"
   ]
  },
  {
   "cell_type": "code",
   "execution_count": null,
   "id": "66d4630d-8371-451d-be0c-91345afba00b",
   "metadata": {},
   "outputs": [],
   "source": []
  },
  {
   "cell_type": "code",
   "execution_count": 29,
   "id": "af3f8460-3de8-4626-9a33-473cba3e7523",
   "metadata": {},
   "outputs": [
    {
     "data": {
      "text/plain": [
       "dict_keys(['data', 'metadata', 'variables'])"
      ]
     },
     "execution_count": 29,
     "metadata": {},
     "output_type": "execute_result"
    }
   ],
   "source": [
    "breast_cancer_wisconsin_diagnostic.keys()"
   ]
  },
  {
   "cell_type": "code",
   "execution_count": 33,
   "id": "030f750b-1abc-429a-804c-32c3820fcb5b",
   "metadata": {},
   "outputs": [
    {
     "name": "stdout",
     "output_type": "stream",
     "text": [
      "1) ID number\n",
      "2) Diagnosis (M = malignant, B = benign)\n",
      "3-32)\n",
      "\n",
      "Ten real-valued features are computed for each cell nucleus:\n",
      "\n",
      "\ta) radius (mean of distances from center to points on the perimeter)\n",
      "\tb) texture (standard deviation of gray-scale values)\n",
      "\tc) perimeter\n",
      "\td) area\n",
      "\te) smoothness (local variation in radius lengths)\n",
      "\tf) compactness (perimeter^2 / area - 1.0)\n",
      "\tg) concavity (severity of concave portions of the contour)\n",
      "\th) concave points (number of concave portions of the contour)\n",
      "\ti) symmetry \n",
      "\tj) fractal dimension (\"coastline approximation\" - 1)\n"
     ]
    }
   ],
   "source": [
    "# Metadata\n",
    "print(breast_cancer_wisconsin_diagnostic.metadata['additional_info']['variable_info'])"
   ]
  },
  {
   "cell_type": "code",
   "execution_count": 31,
   "id": "e38895ee-18d4-4e84-9b4f-9e26abcde5bb",
   "metadata": {},
   "outputs": [
    {
     "data": {
      "text/plain": [
       "0                     ID\n",
       "1              Diagnosis\n",
       "2                radius1\n",
       "3               texture1\n",
       "4             perimeter1\n",
       "5                  area1\n",
       "6            smoothness1\n",
       "7           compactness1\n",
       "8             concavity1\n",
       "9        concave_points1\n",
       "10             symmetry1\n",
       "11    fractal_dimension1\n",
       "12               radius2\n",
       "13              texture2\n",
       "14            perimeter2\n",
       "15                 area2\n",
       "16           smoothness2\n",
       "17          compactness2\n",
       "18            concavity2\n",
       "19       concave_points2\n",
       "20             symmetry2\n",
       "21    fractal_dimension2\n",
       "22               radius3\n",
       "23              texture3\n",
       "24            perimeter3\n",
       "25                 area3\n",
       "26           smoothness3\n",
       "27          compactness3\n",
       "28            concavity3\n",
       "29       concave_points3\n",
       "30             symmetry3\n",
       "31    fractal_dimension3\n",
       "Name: name, dtype: object"
      ]
     },
     "execution_count": 31,
     "metadata": {},
     "output_type": "execute_result"
    }
   ],
   "source": [
    "breast_cancer_wisconsin_diagnostic.variables['name']"
   ]
  },
  {
   "cell_type": "code",
   "execution_count": 34,
   "id": "16f6322e-e07a-4c8b-b3ad-46361ee01f40",
   "metadata": {},
   "outputs": [
    {
     "data": {
      "text/plain": [
       "'https://archive.ics.uci.edu/static/public/17/data.csv'"
      ]
     },
     "execution_count": 34,
     "metadata": {},
     "output_type": "execute_result"
    }
   ],
   "source": [
    "breast_cancer_wisconsin_diagnostic.metadata['data_url']"
   ]
  },
  {
   "cell_type": "code",
   "execution_count": null,
   "id": "6064aaea-da63-4fb3-8a32-59a128c4ecaa",
   "metadata": {},
   "outputs": [],
   "source": []
  },
  {
   "cell_type": "code",
   "execution_count": null,
   "id": "418664a4-9339-48ba-a53a-c8212cd5c95f",
   "metadata": {},
   "outputs": [],
   "source": []
  },
  {
   "cell_type": "markdown",
   "id": "cb9d3e63-471b-4faa-8494-93310a0ae50c",
   "metadata": {},
   "source": [
    "## 2.3 Breast Cancer Dataset - Unique Values"
   ]
  },
  {
   "cell_type": "code",
   "execution_count": 35,
   "id": "1231bf35-c8e1-4ff9-b6d5-1c8f70dcee15",
   "metadata": {},
   "outputs": [
    {
     "data": {
      "text/plain": [
       "ID                    569\n",
       "radius1               456\n",
       "texture1              479\n",
       "perimeter1            522\n",
       "area1                 539\n",
       "smoothness1           474\n",
       "compactness1          537\n",
       "concavity1            537\n",
       "concave_points1       542\n",
       "symmetry1             432\n",
       "fractal_dimension1    499\n",
       "radius2               540\n",
       "texture2              519\n",
       "perimeter2            533\n",
       "area2                 528\n",
       "smoothness2           547\n",
       "compactness2          541\n",
       "concavity2            533\n",
       "concave_points2       507\n",
       "symmetry2             498\n",
       "fractal_dimension2    545\n",
       "radius3               457\n",
       "texture3              511\n",
       "perimeter3            514\n",
       "area3                 544\n",
       "smoothness3           411\n",
       "compactness3          529\n",
       "concavity3            539\n",
       "concave_points3       492\n",
       "symmetry3             500\n",
       "fractal_dimension3    535\n",
       "Diagnosis               2\n",
       "dtype: int64"
      ]
     },
     "execution_count": 35,
     "metadata": {},
     "output_type": "execute_result"
    }
   ],
   "source": [
    "# Unique Values of df_target\n",
    "df_original.nunique()"
   ]
  },
  {
   "cell_type": "code",
   "execution_count": 36,
   "id": "cb8a7dc9-a3f8-4064-a8f3-7d0fbd0fc13d",
   "metadata": {},
   "outputs": [
    {
     "data": {
      "text/plain": [
       "array(['M', 'B'], dtype=object)"
      ]
     },
     "execution_count": 36,
     "metadata": {},
     "output_type": "execute_result"
    }
   ],
   "source": [
    "df_original['Diagnosis'].unique()"
   ]
  },
  {
   "cell_type": "code",
   "execution_count": null,
   "id": "49b55698-f2bd-4fe9-9c1e-d3043147c4e0",
   "metadata": {},
   "outputs": [],
   "source": []
  },
  {
   "cell_type": "code",
   "execution_count": null,
   "id": "256228fa-7d78-43dd-a779-297dfb1e57e5",
   "metadata": {},
   "outputs": [],
   "source": []
  },
  {
   "cell_type": "markdown",
   "id": "aa169d2d-1fab-46cc-b297-63fd38cac799",
   "metadata": {},
   "source": [
    "## 2.4 Breast Cancer Dataset - Descriptive Statistics"
   ]
  },
  {
   "cell_type": "code",
   "execution_count": 37,
   "id": "d7256880-b4e9-4513-94c1-ac23fba17c7a",
   "metadata": {},
   "outputs": [
    {
     "name": "stdout",
     "output_type": "stream",
     "text": [
      "<class 'pandas.core.frame.DataFrame'>\n",
      "RangeIndex: 569 entries, 0 to 568\n",
      "Data columns (total 32 columns):\n",
      " #   Column              Non-Null Count  Dtype  \n",
      "---  ------              --------------  -----  \n",
      " 0   ID                  569 non-null    int64  \n",
      " 1   radius1             569 non-null    float64\n",
      " 2   texture1            569 non-null    float64\n",
      " 3   perimeter1          569 non-null    float64\n",
      " 4   area1               569 non-null    float64\n",
      " 5   smoothness1         569 non-null    float64\n",
      " 6   compactness1        569 non-null    float64\n",
      " 7   concavity1          569 non-null    float64\n",
      " 8   concave_points1     569 non-null    float64\n",
      " 9   symmetry1           569 non-null    float64\n",
      " 10  fractal_dimension1  569 non-null    float64\n",
      " 11  radius2             569 non-null    float64\n",
      " 12  texture2            569 non-null    float64\n",
      " 13  perimeter2          569 non-null    float64\n",
      " 14  area2               569 non-null    float64\n",
      " 15  smoothness2         569 non-null    float64\n",
      " 16  compactness2        569 non-null    float64\n",
      " 17  concavity2          569 non-null    float64\n",
      " 18  concave_points2     569 non-null    float64\n",
      " 19  symmetry2           569 non-null    float64\n",
      " 20  fractal_dimension2  569 non-null    float64\n",
      " 21  radius3             569 non-null    float64\n",
      " 22  texture3            569 non-null    float64\n",
      " 23  perimeter3          569 non-null    float64\n",
      " 24  area3               569 non-null    float64\n",
      " 25  smoothness3         569 non-null    float64\n",
      " 26  compactness3        569 non-null    float64\n",
      " 27  concavity3          569 non-null    float64\n",
      " 28  concave_points3     569 non-null    float64\n",
      " 29  symmetry3           569 non-null    float64\n",
      " 30  fractal_dimension3  569 non-null    float64\n",
      " 31  Diagnosis           569 non-null    object \n",
      "dtypes: float64(30), int64(1), object(1)\n",
      "memory usage: 142.4+ KB\n"
     ]
    }
   ],
   "source": [
    "df_original.info()"
   ]
  },
  {
   "cell_type": "code",
   "execution_count": 38,
   "id": "f59f88dd-05cc-4347-b507-5ff846f3a096",
   "metadata": {},
   "outputs": [
    {
     "data": {
      "text/html": [
       "<div>\n",
       "<style scoped>\n",
       "    .dataframe tbody tr th:only-of-type {\n",
       "        vertical-align: middle;\n",
       "    }\n",
       "\n",
       "    .dataframe tbody tr th {\n",
       "        vertical-align: top;\n",
       "    }\n",
       "\n",
       "    .dataframe thead th {\n",
       "        text-align: right;\n",
       "    }\n",
       "</style>\n",
       "<table border=\"1\" class=\"dataframe\">\n",
       "  <thead>\n",
       "    <tr style=\"text-align: right;\">\n",
       "      <th></th>\n",
       "      <th>ID</th>\n",
       "      <th>radius1</th>\n",
       "      <th>texture1</th>\n",
       "      <th>perimeter1</th>\n",
       "      <th>area1</th>\n",
       "      <th>smoothness1</th>\n",
       "      <th>compactness1</th>\n",
       "      <th>concavity1</th>\n",
       "      <th>concave_points1</th>\n",
       "      <th>symmetry1</th>\n",
       "      <th>...</th>\n",
       "      <th>radius3</th>\n",
       "      <th>texture3</th>\n",
       "      <th>perimeter3</th>\n",
       "      <th>area3</th>\n",
       "      <th>smoothness3</th>\n",
       "      <th>compactness3</th>\n",
       "      <th>concavity3</th>\n",
       "      <th>concave_points3</th>\n",
       "      <th>symmetry3</th>\n",
       "      <th>fractal_dimension3</th>\n",
       "    </tr>\n",
       "  </thead>\n",
       "  <tbody>\n",
       "    <tr>\n",
       "      <th>count</th>\n",
       "      <td>5.690000e+02</td>\n",
       "      <td>569.000000</td>\n",
       "      <td>569.000000</td>\n",
       "      <td>569.000000</td>\n",
       "      <td>569.000000</td>\n",
       "      <td>569.000000</td>\n",
       "      <td>569.000000</td>\n",
       "      <td>569.000000</td>\n",
       "      <td>569.000000</td>\n",
       "      <td>569.000000</td>\n",
       "      <td>...</td>\n",
       "      <td>569.000000</td>\n",
       "      <td>569.000000</td>\n",
       "      <td>569.000000</td>\n",
       "      <td>569.000000</td>\n",
       "      <td>569.000000</td>\n",
       "      <td>569.000000</td>\n",
       "      <td>569.000000</td>\n",
       "      <td>569.000000</td>\n",
       "      <td>569.000000</td>\n",
       "      <td>569.000000</td>\n",
       "    </tr>\n",
       "    <tr>\n",
       "      <th>mean</th>\n",
       "      <td>3.037183e+07</td>\n",
       "      <td>14.127292</td>\n",
       "      <td>19.289649</td>\n",
       "      <td>91.969033</td>\n",
       "      <td>654.889104</td>\n",
       "      <td>0.096360</td>\n",
       "      <td>0.104341</td>\n",
       "      <td>0.088799</td>\n",
       "      <td>0.048919</td>\n",
       "      <td>0.181162</td>\n",
       "      <td>...</td>\n",
       "      <td>16.269190</td>\n",
       "      <td>25.677223</td>\n",
       "      <td>107.261213</td>\n",
       "      <td>880.583128</td>\n",
       "      <td>0.132369</td>\n",
       "      <td>0.254265</td>\n",
       "      <td>0.272188</td>\n",
       "      <td>0.114606</td>\n",
       "      <td>0.290076</td>\n",
       "      <td>0.083946</td>\n",
       "    </tr>\n",
       "    <tr>\n",
       "      <th>std</th>\n",
       "      <td>1.250206e+08</td>\n",
       "      <td>3.524049</td>\n",
       "      <td>4.301036</td>\n",
       "      <td>24.298981</td>\n",
       "      <td>351.914129</td>\n",
       "      <td>0.014064</td>\n",
       "      <td>0.052813</td>\n",
       "      <td>0.079720</td>\n",
       "      <td>0.038803</td>\n",
       "      <td>0.027414</td>\n",
       "      <td>...</td>\n",
       "      <td>4.833242</td>\n",
       "      <td>6.146258</td>\n",
       "      <td>33.602542</td>\n",
       "      <td>569.356993</td>\n",
       "      <td>0.022832</td>\n",
       "      <td>0.157336</td>\n",
       "      <td>0.208624</td>\n",
       "      <td>0.065732</td>\n",
       "      <td>0.061867</td>\n",
       "      <td>0.018061</td>\n",
       "    </tr>\n",
       "    <tr>\n",
       "      <th>min</th>\n",
       "      <td>8.670000e+03</td>\n",
       "      <td>6.981000</td>\n",
       "      <td>9.710000</td>\n",
       "      <td>43.790000</td>\n",
       "      <td>143.500000</td>\n",
       "      <td>0.052630</td>\n",
       "      <td>0.019380</td>\n",
       "      <td>0.000000</td>\n",
       "      <td>0.000000</td>\n",
       "      <td>0.106000</td>\n",
       "      <td>...</td>\n",
       "      <td>7.930000</td>\n",
       "      <td>12.020000</td>\n",
       "      <td>50.410000</td>\n",
       "      <td>185.200000</td>\n",
       "      <td>0.071170</td>\n",
       "      <td>0.027290</td>\n",
       "      <td>0.000000</td>\n",
       "      <td>0.000000</td>\n",
       "      <td>0.156500</td>\n",
       "      <td>0.055040</td>\n",
       "    </tr>\n",
       "    <tr>\n",
       "      <th>25%</th>\n",
       "      <td>8.692180e+05</td>\n",
       "      <td>11.700000</td>\n",
       "      <td>16.170000</td>\n",
       "      <td>75.170000</td>\n",
       "      <td>420.300000</td>\n",
       "      <td>0.086370</td>\n",
       "      <td>0.064920</td>\n",
       "      <td>0.029560</td>\n",
       "      <td>0.020310</td>\n",
       "      <td>0.161900</td>\n",
       "      <td>...</td>\n",
       "      <td>13.010000</td>\n",
       "      <td>21.080000</td>\n",
       "      <td>84.110000</td>\n",
       "      <td>515.300000</td>\n",
       "      <td>0.116600</td>\n",
       "      <td>0.147200</td>\n",
       "      <td>0.114500</td>\n",
       "      <td>0.064930</td>\n",
       "      <td>0.250400</td>\n",
       "      <td>0.071460</td>\n",
       "    </tr>\n",
       "    <tr>\n",
       "      <th>50%</th>\n",
       "      <td>9.060240e+05</td>\n",
       "      <td>13.370000</td>\n",
       "      <td>18.840000</td>\n",
       "      <td>86.240000</td>\n",
       "      <td>551.100000</td>\n",
       "      <td>0.095870</td>\n",
       "      <td>0.092630</td>\n",
       "      <td>0.061540</td>\n",
       "      <td>0.033500</td>\n",
       "      <td>0.179200</td>\n",
       "      <td>...</td>\n",
       "      <td>14.970000</td>\n",
       "      <td>25.410000</td>\n",
       "      <td>97.660000</td>\n",
       "      <td>686.500000</td>\n",
       "      <td>0.131300</td>\n",
       "      <td>0.211900</td>\n",
       "      <td>0.226700</td>\n",
       "      <td>0.099930</td>\n",
       "      <td>0.282200</td>\n",
       "      <td>0.080040</td>\n",
       "    </tr>\n",
       "    <tr>\n",
       "      <th>75%</th>\n",
       "      <td>8.813129e+06</td>\n",
       "      <td>15.780000</td>\n",
       "      <td>21.800000</td>\n",
       "      <td>104.100000</td>\n",
       "      <td>782.700000</td>\n",
       "      <td>0.105300</td>\n",
       "      <td>0.130400</td>\n",
       "      <td>0.130700</td>\n",
       "      <td>0.074000</td>\n",
       "      <td>0.195700</td>\n",
       "      <td>...</td>\n",
       "      <td>18.790000</td>\n",
       "      <td>29.720000</td>\n",
       "      <td>125.400000</td>\n",
       "      <td>1084.000000</td>\n",
       "      <td>0.146000</td>\n",
       "      <td>0.339100</td>\n",
       "      <td>0.382900</td>\n",
       "      <td>0.161400</td>\n",
       "      <td>0.317900</td>\n",
       "      <td>0.092080</td>\n",
       "    </tr>\n",
       "    <tr>\n",
       "      <th>max</th>\n",
       "      <td>9.113205e+08</td>\n",
       "      <td>28.110000</td>\n",
       "      <td>39.280000</td>\n",
       "      <td>188.500000</td>\n",
       "      <td>2501.000000</td>\n",
       "      <td>0.163400</td>\n",
       "      <td>0.345400</td>\n",
       "      <td>0.426800</td>\n",
       "      <td>0.201200</td>\n",
       "      <td>0.304000</td>\n",
       "      <td>...</td>\n",
       "      <td>36.040000</td>\n",
       "      <td>49.540000</td>\n",
       "      <td>251.200000</td>\n",
       "      <td>4254.000000</td>\n",
       "      <td>0.222600</td>\n",
       "      <td>1.058000</td>\n",
       "      <td>1.252000</td>\n",
       "      <td>0.291000</td>\n",
       "      <td>0.663800</td>\n",
       "      <td>0.207500</td>\n",
       "    </tr>\n",
       "  </tbody>\n",
       "</table>\n",
       "<p>8 rows × 31 columns</p>\n",
       "</div>"
      ],
      "text/plain": [
       "                 ID     radius1    texture1  perimeter1        area1  \\\n",
       "count  5.690000e+02  569.000000  569.000000  569.000000   569.000000   \n",
       "mean   3.037183e+07   14.127292   19.289649   91.969033   654.889104   \n",
       "std    1.250206e+08    3.524049    4.301036   24.298981   351.914129   \n",
       "min    8.670000e+03    6.981000    9.710000   43.790000   143.500000   \n",
       "25%    8.692180e+05   11.700000   16.170000   75.170000   420.300000   \n",
       "50%    9.060240e+05   13.370000   18.840000   86.240000   551.100000   \n",
       "75%    8.813129e+06   15.780000   21.800000  104.100000   782.700000   \n",
       "max    9.113205e+08   28.110000   39.280000  188.500000  2501.000000   \n",
       "\n",
       "       smoothness1  compactness1  concavity1  concave_points1   symmetry1  \\\n",
       "count   569.000000    569.000000  569.000000       569.000000  569.000000   \n",
       "mean      0.096360      0.104341    0.088799         0.048919    0.181162   \n",
       "std       0.014064      0.052813    0.079720         0.038803    0.027414   \n",
       "min       0.052630      0.019380    0.000000         0.000000    0.106000   \n",
       "25%       0.086370      0.064920    0.029560         0.020310    0.161900   \n",
       "50%       0.095870      0.092630    0.061540         0.033500    0.179200   \n",
       "75%       0.105300      0.130400    0.130700         0.074000    0.195700   \n",
       "max       0.163400      0.345400    0.426800         0.201200    0.304000   \n",
       "\n",
       "       ...     radius3    texture3  perimeter3        area3  smoothness3  \\\n",
       "count  ...  569.000000  569.000000  569.000000   569.000000   569.000000   \n",
       "mean   ...   16.269190   25.677223  107.261213   880.583128     0.132369   \n",
       "std    ...    4.833242    6.146258   33.602542   569.356993     0.022832   \n",
       "min    ...    7.930000   12.020000   50.410000   185.200000     0.071170   \n",
       "25%    ...   13.010000   21.080000   84.110000   515.300000     0.116600   \n",
       "50%    ...   14.970000   25.410000   97.660000   686.500000     0.131300   \n",
       "75%    ...   18.790000   29.720000  125.400000  1084.000000     0.146000   \n",
       "max    ...   36.040000   49.540000  251.200000  4254.000000     0.222600   \n",
       "\n",
       "       compactness3  concavity3  concave_points3   symmetry3  \\\n",
       "count    569.000000  569.000000       569.000000  569.000000   \n",
       "mean       0.254265    0.272188         0.114606    0.290076   \n",
       "std        0.157336    0.208624         0.065732    0.061867   \n",
       "min        0.027290    0.000000         0.000000    0.156500   \n",
       "25%        0.147200    0.114500         0.064930    0.250400   \n",
       "50%        0.211900    0.226700         0.099930    0.282200   \n",
       "75%        0.339100    0.382900         0.161400    0.317900   \n",
       "max        1.058000    1.252000         0.291000    0.663800   \n",
       "\n",
       "       fractal_dimension3  \n",
       "count          569.000000  \n",
       "mean             0.083946  \n",
       "std              0.018061  \n",
       "min              0.055040  \n",
       "25%              0.071460  \n",
       "50%              0.080040  \n",
       "75%              0.092080  \n",
       "max              0.207500  \n",
       "\n",
       "[8 rows x 31 columns]"
      ]
     },
     "execution_count": 38,
     "metadata": {},
     "output_type": "execute_result"
    }
   ],
   "source": [
    "df_original.describe()"
   ]
  },
  {
   "cell_type": "code",
   "execution_count": 40,
   "id": "95e64866-8c4f-4d57-b157-255ad06534d5",
   "metadata": {},
   "outputs": [
    {
     "data": {
      "text/html": [
       "<div>\n",
       "<style scoped>\n",
       "    .dataframe tbody tr th:only-of-type {\n",
       "        vertical-align: middle;\n",
       "    }\n",
       "\n",
       "    .dataframe tbody tr th {\n",
       "        vertical-align: top;\n",
       "    }\n",
       "\n",
       "    .dataframe thead th {\n",
       "        text-align: right;\n",
       "    }\n",
       "</style>\n",
       "<table border=\"1\" class=\"dataframe\">\n",
       "  <thead>\n",
       "    <tr style=\"text-align: right;\">\n",
       "      <th></th>\n",
       "      <th>Diagnosis</th>\n",
       "    </tr>\n",
       "  </thead>\n",
       "  <tbody>\n",
       "    <tr>\n",
       "      <th>count</th>\n",
       "      <td>569</td>\n",
       "    </tr>\n",
       "    <tr>\n",
       "      <th>unique</th>\n",
       "      <td>2</td>\n",
       "    </tr>\n",
       "    <tr>\n",
       "      <th>top</th>\n",
       "      <td>B</td>\n",
       "    </tr>\n",
       "    <tr>\n",
       "      <th>freq</th>\n",
       "      <td>357</td>\n",
       "    </tr>\n",
       "  </tbody>\n",
       "</table>\n",
       "</div>"
      ],
      "text/plain": [
       "       Diagnosis\n",
       "count        569\n",
       "unique         2\n",
       "top            B\n",
       "freq         357"
      ]
     },
     "execution_count": 40,
     "metadata": {},
     "output_type": "execute_result"
    }
   ],
   "source": [
    "df_original.describe(include='object')"
   ]
  },
  {
   "cell_type": "code",
   "execution_count": null,
   "id": "b23526f9-8149-4c49-aedb-570b7ecd8994",
   "metadata": {},
   "outputs": [],
   "source": []
  },
  {
   "cell_type": "code",
   "execution_count": null,
   "id": "08d64e3f-2fb3-4513-a35b-870254519ac4",
   "metadata": {},
   "outputs": [],
   "source": []
  },
  {
   "cell_type": "markdown",
   "id": "53c20afe-3533-4ad7-bf9a-26fa8bd45cd5",
   "metadata": {},
   "source": [
    "## 2. Breast Cancer Dataset - Write to CSV"
   ]
  },
  {
   "cell_type": "raw",
   "id": "01d8bfbf-757d-436e-9641-e1f2289023d5",
   "metadata": {},
   "source": [
    "df_original.to_csv('../data/cleaned/df_original.csv')"
   ]
  },
  {
   "cell_type": "code",
   "execution_count": null,
   "id": "1b24598d-8b7a-44fc-a589-63283f02d841",
   "metadata": {},
   "outputs": [],
   "source": []
  }
 ],
 "metadata": {
  "kernelspec": {
   "display_name": "cdp_venv",
   "language": "python",
   "name": "cdp_venv"
  },
  "language_info": {
   "codemirror_mode": {
    "name": "ipython",
    "version": 3
   },
   "file_extension": ".py",
   "mimetype": "text/x-python",
   "name": "python",
   "nbconvert_exporter": "python",
   "pygments_lexer": "ipython3",
   "version": "3.11.5"
  }
 },
 "nbformat": 4,
 "nbformat_minor": 5
}
